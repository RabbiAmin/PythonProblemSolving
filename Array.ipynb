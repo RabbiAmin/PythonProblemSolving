{
 "cells": [
  {
   "cell_type": "markdown",
   "id": "4edeaf0d-4f83-4fb2-aee8-85a41021054f",
   "metadata": {},
   "source": [
    "***❓ Problem Statement 1***\n",
    "\n",
    "You are given two arrays of non-negative integers:\n",
    "\n",
    "The first array contains N integers.\n",
    "\n",
    "The second array is formed by shuffling the first array and removing one random element.\n",
    "\n",
    "Your task is to find the missing element from the second array.\n",
    "\n",
    "📝 Example\n",
    "finder([1, 2, 3, 4, 5, 6, 7], [3, 7, 2, 1, 4, 6])\n",
    "\n",
    "✅ Output:\n",
    "5 is the missing number\n",
    "\n",
    "In this example, 5 was removed from the first array to form the second array."
   ]
  },
  {
   "cell_type": "code",
   "execution_count": 1,
   "id": "168c6a15-d120-4b6a-a5fa-077ada8afcf6",
   "metadata": {},
   "outputs": [
    {
     "name": "stdout",
     "output_type": "stream",
     "text": [
      "5 is the missing number\n"
     ]
    }
   ],
   "source": [
    "def finder(arr1, arr2):\n",
    "    \"\"\"\n",
    "    Finds the missing element in the second array.\n",
    "    arr1: Original array\n",
    "    arr2: Shuffled array with one element removed\n",
    "    \"\"\"\n",
    "    result = 0\n",
    "    \n",
    "    # XOR all numbers in both arrays\n",
    "    for num in arr1 + arr2:\n",
    "        result ^= num\n",
    "    \n",
    "    return result\n",
    "\n",
    "# Example usage\n",
    "missing_number = finder([1, 2, 3, 4, 5, 6, 7], [3, 7, 2, 1, 4, 6])\n",
    "print(f\"{missing_number} is the missing number\")\n"
   ]
  },
  {
   "cell_type": "markdown",
   "id": "585852b0-bfbf-4016-9e11-882c5c45156f",
   "metadata": {},
   "source": [
    "***❓ Problem Statement 2***\n",
    "\n",
    "\n",
    "You are given a string.\n",
    "Your task is to find the length of the longest substring that contains no repeating characters.\n",
    "\n",
    "✨ Examples\n",
    "Given \"abcabcbb\" → the longest substring without repeating characters is \"abc\", so the length is 3.\n",
    "\n",
    "Given \"bbbbb\" → the longest substring without repeating characters is \"b\", so the length is 1.\n",
    "\n",
    "Given \"pwwkew\" → the longest substring without repeating characters is \"wke\", so the length is 3.\n",
    "\n",
    "✅ Goal\n",
    "Write a function:\n",
    "\n",
    "def longest_substring_length(s: str) -> int:\n",
    "\n",
    "that returns the length of the longest substring without repeating characters."
   ]
  },
  {
   "cell_type": "code",
   "execution_count": 2,
   "id": "70e3c4c5-f497-44fe-b037-71592429c48c",
   "metadata": {},
   "outputs": [
    {
     "name": "stdout",
     "output_type": "stream",
     "text": [
      "3\n",
      "1\n",
      "3\n"
     ]
    }
   ],
   "source": [
    "def longest_substring_length(s: str) -> int:\n",
    "    char_set = set()\n",
    "    left = 0\n",
    "    max_len = 0\n",
    "\n",
    "    for right in range(len(s)):\n",
    "        # If character is already in set, shrink the window from the left\n",
    "        while s[right] in char_set:\n",
    "            char_set.remove(s[left])\n",
    "            left += 1\n",
    "\n",
    "        # Add the current character to the set\n",
    "        char_set.add(s[right])\n",
    "        # Update max length\n",
    "        max_len = max(max_len, right - left + 1)\n",
    "\n",
    "    return max_len\n",
    "\n",
    "# Example usage\n",
    "print(longest_substring_length(\"abcabcbb\"))  # Output: 3\n",
    "print(longest_substring_length(\"bbbbb\"))     # Output: 1\n",
    "print(longest_substring_length(\"pwwkew\"))    # Output: 3\n"
   ]
  },
  {
   "cell_type": "code",
   "execution_count": 3,
   "id": "2b037372-6103-47a8-835a-35a196d222ea",
   "metadata": {},
   "outputs": [
    {
     "name": "stdout",
     "output_type": "stream",
     "text": [
      "['a', 'b', 'c', 'd', 'e', 'f', 'z', 'y', 'q']\n",
      "['b', 'c', 'd', 'e', 'f', 'z', 'y', 'q']\n",
      "['c', 'd', 'e', 'f', 'z', 'y', 'q', 'b']\n",
      "['d', 'e', 'f', 'z', 'y', 'q', 'b']\n",
      "['e', 'f', 'z', 'y', 'q', 'b', 'd']\n",
      "['f', 'z', 'y', 'q', 'b', 'd']\n",
      "['z', 'y', 'q', 'b', 'd']\n",
      "['y', 'q', 'b', 'd']\n",
      "['q', 'b', 'd']\n",
      "['b', 'd']\n",
      "['d', 'b', 's']\n",
      "['b', 's', 'd']\n",
      "['s', 'd', 'b']\n",
      "['d', 'b']\n",
      "['b']\n"
     ]
    },
    {
     "data": {
      "text/plain": [
       "9"
      ]
     },
     "execution_count": 3,
     "metadata": {},
     "output_type": "execute_result"
    }
   ],
   "source": [
    "### ANother Process \n",
    "\n",
    "str = \"abcdefzyqbdbsdb\"\n",
    "\n",
    "def longest_non_repeat(str):\n",
    "    \n",
    "    # init start position and max length     \n",
    "    i=0\n",
    "    max_length = 1\n",
    "\n",
    "    for i,c in enumerate(str):\n",
    "\n",
    "        # init counter and sub string value         \n",
    "        start_at = i\n",
    "        sub_str=[]\n",
    "\n",
    "        # continue increase sub string if did not repeat character         \n",
    "        while (start_at < len(str)) and (str[start_at] not in sub_str):\n",
    "            sub_str.append(str[start_at])\n",
    "            start_at = start_at + 1\n",
    "\n",
    "        # update the max length   \n",
    "        if len(sub_str) > max_length:\n",
    "            max_length = len(sub_str)\n",
    "\n",
    "        print(sub_str)\n",
    "        \n",
    "    return max_length\n",
    "\n",
    "longest_non_repeat(str)"
   ]
  },
  {
   "cell_type": "markdown",
   "id": "f6cfc05c-5a2f-4cdc-93da-02826907f519",
   "metadata": {},
   "source": [
    "***❓ Problem Statement 3***\n",
    "\n",
    "\n",
    "You are given a list of intervals, where each interval is represented as a list of two integers: [start, end].\n",
    "These intervals are already sorted by the start number.\n",
    "\n",
    "Your task is to:\n",
    "👉 Merge all overlapping intervals and return a list of the merged intervals.\n",
    "\n",
    "✨ Example\n",
    "Given:\n",
    "\n",
    "[[1, 3], [2, 6], [5, 10], [11, 16], [15, 18], [19, 22]]\n",
    "\n",
    "The merged intervals should be:\n",
    "\n",
    "[[1, 10], [11, 18], [19, 22]]"
   ]
  },
  {
   "cell_type": "code",
   "execution_count": 4,
   "id": "13964d4b-e60e-4456-8376-01a738cfc378",
   "metadata": {},
   "outputs": [
    {
     "name": "stdout",
     "output_type": "stream",
     "text": [
      "[[1, 10], [11, 18], [19, 22]]\n"
     ]
    }
   ],
   "source": [
    "def merge_intervals(intervals):\n",
    "    if not intervals:\n",
    "        return []\n",
    "\n",
    "    merged = []\n",
    "    current_start, current_end = intervals[0]\n",
    "\n",
    "    for start, end in intervals[1:]:\n",
    "        if start <= current_end:\n",
    "            # Overlapping intervals, merge them\n",
    "            current_end = max(current_end, end)\n",
    "        else:\n",
    "            # No overlap, add the previous interval and move to the next\n",
    "            merged.append([current_start, current_end])\n",
    "            current_start, current_end = start, end\n",
    "\n",
    "    # Add the last interval\n",
    "    merged.append([current_start, current_end])\n",
    "    \n",
    "    return merged\n",
    "\n",
    "# Example usage\n",
    "intervals = [[1, 3], [2, 6], [5, 10], [11, 16], [15, 18], [19, 22]]\n",
    "print(merge_intervals(intervals))\n"
   ]
  },
  {
   "cell_type": "code",
   "execution_count": 5,
   "id": "e9a16d7b-c0c4-4261-84ce-1b3024dbc406",
   "metadata": {},
   "outputs": [
    {
     "name": "stdout",
     "output_type": "stream",
     "text": [
      "[[1, 10], [11, 18], [19, 22]]\n"
     ]
    }
   ],
   "source": [
    "### Another Process \n",
    "\n",
    "org_intervals = [[1,3],[2,6],[5,10],[11,16],[15,18],[19,22]]\n",
    "\n",
    "i = 0\n",
    "\n",
    "while i < len(org_intervals)-1:\n",
    "#     print(org_intervals[i])\n",
    "    if org_intervals[i+1][0] < org_intervals[i][1]:\n",
    "        org_intervals[i][1]=org_intervals[i+1][1]\n",
    "        del org_intervals[i+1]\n",
    "        i = i - 1\n",
    "    i = i + 1\n",
    "\n",
    "print(org_intervals)"
   ]
  },
  {
   "cell_type": "markdown",
   "id": "bca19a16-ff3e-4b08-8778-569e5686b2f2",
   "metadata": {},
   "source": [
    "***❓ Problem Statement 4***\n",
    "\n",
    "You are given a sorted integer array without duplicates.\n",
    "\n",
    "Your task is to:\n",
    "👉 Return the summary of its ranges:\n",
    "\n",
    "If a sequence of consecutive numbers exists, summarize it as \"start->end\".\n",
    "\n",
    "If a number is isolated (no consecutive neighbors), represent it as \"number\".\n",
    "\n",
    "✨ Example\n",
    "Given:\n",
    "[0, 1, 2, 4, 5, 7]\n",
    "\n",
    "Return:\n",
    "[\"0->2\", \"4->5\", \"7\"]"
   ]
  },
  {
   "cell_type": "code",
   "execution_count": 6,
   "id": "f26c0c9d-923b-496d-adaa-e28e12a3b2d6",
   "metadata": {},
   "outputs": [
    {
     "name": "stdout",
     "output_type": "stream",
     "text": [
      "['0->2', '4->5', '7']\n"
     ]
    }
   ],
   "source": [
    "def summary_ranges(nums):\n",
    "    if not nums:\n",
    "        return []\n",
    "\n",
    "    result = []\n",
    "    start = nums[0]\n",
    "\n",
    "    for i in range(1, len(nums)):\n",
    "        # If current number is not consecutive\n",
    "        if nums[i] != nums[i - 1] + 1:\n",
    "            if start == nums[i - 1]:\n",
    "                result.append(f\"{start}\")\n",
    "            else:\n",
    "                result.append(f\"{start}->{nums[i - 1]}\")\n",
    "            start = nums[i]\n",
    "\n",
    "    # Handle the last range\n",
    "    if start == nums[-1]:\n",
    "        result.append(f\"{start}\")\n",
    "    else:\n",
    "        result.append(f\"{start}->{nums[-1]}\")\n",
    "\n",
    "    return result\n",
    "\n",
    "# Example usage\n",
    "nums = [0, 1, 2, 4, 5, 7]\n",
    "print(summary_ranges(nums))  # Output: ['0->2', '4->5', '7']\n"
   ]
  },
  {
   "cell_type": "code",
   "execution_count": 7,
   "id": "d37cf535-2a4f-41d4-b952-b0b9fa5a497c",
   "metadata": {},
   "outputs": [
    {
     "name": "stdout",
     "output_type": "stream",
     "text": [
      "['0-->2']\n",
      "['0-->2', '4-->5']\n",
      "['0-->2', '4-->5', '7']\n",
      "['0-->2', '4-->5', '7']\n"
     ]
    }
   ],
   "source": [
    "### Another Process \n",
    "\n",
    "input_array = [0,1,2,4,5,7]\n",
    "# input_array = [1,2,3,6,9,11,12,13,14,19,20]\n",
    "\n",
    "start=0\n",
    "result = []\n",
    "\n",
    "# i=0\n",
    "# while i <= len(input_array)-1:\n",
    "#     print(i, input_array[i])\n",
    "#     i = i+1\n",
    "\n",
    "\n",
    "while start < len(input_array):\n",
    "    \n",
    "    # initial end at start position     \n",
    "    end = start\n",
    "\n",
    "    # continue to move the end pointer if the gap is 1 with beside number\n",
    "    # only continue to move if index end+1 is inside array     \n",
    "    while end+1<len(input_array) and ((input_array[end+1] - input_array[end]) == 1):\n",
    "        end = end + 1\n",
    "\n",
    "    # add range to result after calculate     \n",
    "    if end!=start:\n",
    "        result.append(\"{0}-->{1}\".format(input_array[start], input_array[end]))\n",
    "        print(result)\n",
    "    else:\n",
    "        result.append(\"{0}\".format(input_array[start]))\n",
    "        print(result)\n",
    "        \n",
    "    # change to next range\n",
    "    start = end+1\n",
    "\n",
    "print(result)"
   ]
  },
  {
   "cell_type": "code",
   "execution_count": null,
   "id": "b2c9af26-c48d-4d76-a3dc-3a9c45f7fd2a",
   "metadata": {},
   "outputs": [],
   "source": []
  }
 ],
 "metadata": {
  "kernelspec": {
   "display_name": "Python 3 (ipykernel)",
   "language": "python",
   "name": "python3"
  },
  "language_info": {
   "codemirror_mode": {
    "name": "ipython",
    "version": 3
   },
   "file_extension": ".py",
   "mimetype": "text/x-python",
   "name": "python",
   "nbconvert_exporter": "python",
   "pygments_lexer": "ipython3",
   "version": "3.8.10"
  }
 },
 "nbformat": 4,
 "nbformat_minor": 5
}
